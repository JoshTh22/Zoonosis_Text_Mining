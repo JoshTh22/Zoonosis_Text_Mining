{
 "cells": [
  {
   "cell_type": "code",
   "execution_count": null,
   "metadata": {},
   "outputs": [],
   "source": [
    "import pandas as pd\n",
    "from Bio import Entrez, Medline\n",
    "import glob\n",
    "import requests\n",
    "import re\n",
    "import os\n",
    "from collections import defaultdict\n",
    "import tarfile\n",
    "import xml.etree.ElementTree as ElementTree\n",
    "from bs4 import BeautifulSoup"
   ]
  },
  {
   "cell_type": "code",
   "execution_count": null,
   "metadata": {},
   "outputs": [],
   "source": [
    "Entrez.api_key = \"\"\n",
    "Entrez.email = \"\""
   ]
  },
  {
   "cell_type": "code",
   "execution_count": null,
   "metadata": {},
   "outputs": [],
   "source": [
    "def create_folders(folder_list):\n",
    "    for i in folder_list:\n",
    "        if not os.path.exists(\"../articles/\"+i):\n",
    "            os.makedirs(\"../articles/\"+i)"
   ]
  },
  {
   "cell_type": "code",
   "execution_count": null,
   "metadata": {},
   "outputs": [],
   "source": [
    "folder_list = [\"zipped_documents\", \"unzipped_documents\", \"xml_files\"]\n",
    "create_folders(folder_list)"
   ]
  },
  {
   "cell_type": "code",
   "execution_count": null,
   "metadata": {},
   "outputs": [],
   "source": [
    "def retrieve_pmc_list(query,db,amount):\n",
    "    pubmed_id_list = []\n",
    "    \n",
    "    # retrieve a dictionary with metadata of articles regarding the query\n",
    "    \n",
    "    handle = Entrez.esearch(db=\"pmc\", term=query, retmax=amount)\n",
    "    record = Entrez.read(handle)\n",
    "    # pulling out id's from the dictionary\n",
    "    pubmed_id_list.append(record[\"IdList\"])\n",
    "\n",
    "    pmc_list = [item for sublist in pubmed_id_list for item in sublist]\n",
    "   \n",
    "    return pmc_list"
   ]
  },
  {
   "cell_type": "code",
   "execution_count": null,
   "metadata": {},
   "outputs": [],
   "source": [
    "pmc_list = retrieve_pmc_list(\"rabies\",\"pubmed\",\"100\")"
   ]
  },
  {
   "cell_type": "code",
   "execution_count": null,
   "metadata": {},
   "outputs": [],
   "source": [
    "def retrieving_ftp_links(pmc_list):\n",
    "    liste_ftp_links = []\n",
    "\n",
    "    #retrieving ftp-link for every pmc id\n",
    "    for i in pmc_list:\n",
    "        page2 = requests.get('https://www.ncbi.nlm.nih.gov/pmc/utils/oa/oa.fcgi?id='+i)\n",
    "        page = requests.get('https://www.ncbi.nlm.nih.gov/pmc/utils/oa/oa.fcgi?id='+i).content\n",
    "        print(page2)\n",
    "        soup = BeautifulSoup(page, 'html.parser')\n",
    "        if \"</error>\" in soup:\n",
    "            continue\n",
    "        else:\n",
    "            # catch only links that are zip files\n",
    "            for link in soup.find_all('link'):\n",
    "                if link.get('href').endswith('tar.gz'):\n",
    "                    ftp_link = link.get('href')\n",
    "                    liste_ftp_links.append(ftp_link[6:])\n",
    "        \n",
    "    return liste_ftp_links"
   ]
  },
  {
   "cell_type": "code",
   "execution_count": null,
   "metadata": {},
   "outputs": [],
   "source": [
    "ftp_lst = retrieving_ftp_links(pmc_list)"
   ]
  },
  {
   "cell_type": "code",
   "execution_count": null,
   "metadata": {},
   "outputs": [],
   "source": [
    "def downloading_fulltext(liste_ftp_links):\n",
    "    for i in liste_ftp_links:\n",
    "        path = \"../articles/zipped_documents/\" + i[-17:]\n",
    "        response = requests.get(\"http://\"+ i, stream=True)\n",
    "        if response.status_code == 200:\n",
    "            with open(path, 'wb') as f:\n",
    "                f.write(response.raw.read())"
   ]
  },
  {
   "cell_type": "code",
   "execution_count": null,
   "metadata": {},
   "outputs": [],
   "source": [
    "downloading_fulltext(ftp_lst)"
   ]
  },
  {
   "cell_type": "code",
   "execution_count": null,
   "metadata": {},
   "outputs": [],
   "source": [
    "liste_zipped_files = glob.glob(\"../articles/zipped_documents/*\")"
   ]
  },
  {
   "cell_type": "code",
   "execution_count": null,
   "metadata": {},
   "outputs": [],
   "source": [
    "def extract_files(liste_zipped_files):\n",
    "    for i in liste_zipped_files:\n",
    "        if i.endswith(\"tar.gz\"):\n",
    "            tar = tarfile.open(i, \"r:gz\")\n",
    "            tar.extractall(\"../articles/unzipped_documents\")\n",
    "            tar.close()\n",
    "        elif i.endswith(\"tar\"):\n",
    "            tar = tarfile.open(i, \"r:\")\n",
    "            tar.extractall()\n",
    "            tar.close()"
   ]
  },
  {
   "cell_type": "code",
   "execution_count": null,
   "metadata": {},
   "outputs": [],
   "source": [
    "extract_files(liste_zipped_files)"
   ]
  },
  {
   "cell_type": "code",
   "execution_count": null,
   "metadata": {},
   "outputs": [],
   "source": [
    "def rename_files():\n",
    "    liste_xml = glob.glob(\"../articles/unzipped_documents/*/*.nxml\")\n",
    "\n",
    "    for i in liste_xml:\n",
    "        m = re.search(\"PMC\\d+\", i).group(0)\n",
    "        #print(m)\n",
    "\n",
    "        os.rename(i, \"../articles/xml_files/\" + m + '.nxml')"
   ]
  },
  {
   "cell_type": "code",
   "execution_count": null,
   "metadata": {},
   "outputs": [],
   "source": [
    "rename_files()"
   ]
  }
 ],
 "metadata": {
  "kernelspec": {
   "display_name": "Python 3 (ipykernel)",
   "language": "python",
   "name": "python3"
  },
  "language_info": {
   "codemirror_mode": {
    "name": "ipython",
    "version": 3
   },
   "file_extension": ".py",
   "mimetype": "text/x-python",
   "name": "python",
   "nbconvert_exporter": "python",
   "pygments_lexer": "ipython3",
   "version": "3.8.10"
  }
 },
 "nbformat": 4,
 "nbformat_minor": 4
}
