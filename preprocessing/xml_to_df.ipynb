{
 "cells": [
  {
   "cell_type": "code",
   "execution_count": 1,
   "metadata": {},
   "outputs": [],
   "source": [
    "import pandas as pd\n",
    "import os\n",
    "import re\n",
    "import glob\n",
    "from Bio import Entrez, Medline\n",
    "import sys, os\n",
    "import numpy as np\n",
    "from bs4 import BeautifulSoup"
   ]
  },
  {
   "cell_type": "code",
   "execution_count": 2,
   "metadata": {},
   "outputs": [],
   "source": [
    "def blockPrint():\n",
    "    sys.stdout = open(os.devnull, 'w')"
   ]
  },
  {
   "cell_type": "code",
   "execution_count": 3,
   "metadata": {},
   "outputs": [],
   "source": [
    "# Restore\n",
    "def enablePrint():\n",
    "    sys.stdout = sys.__stdout__"
   ]
  },
  {
   "cell_type": "code",
   "execution_count": 4,
   "metadata": {},
   "outputs": [],
   "source": [
    "def get_nxml_paths():\n",
    "\n",
    "    liste_zipped_files = glob.glob(\"../articles/xml_files/*.nxml\")\n",
    "    #print(liste_zipped_files)\n",
    "    return liste_zipped_files"
   ]
  },
  {
   "cell_type": "code",
   "execution_count": 5,
   "metadata": {},
   "outputs": [],
   "source": [
    "def change_type_df_column(df):\n",
    "    import numpy as np\n",
    "    \n",
    "    # decode columns as utf-8\n",
    "    \n",
    "    col_list = [\"PMC\"]\n",
    "    for i in col_list:\n",
    "        bytelist = df[i].tolist()\n",
    "        stringlist = [x[0].decode('utf-8') for x in bytelist]\n",
    "        df[i] = stringlist\n",
    "\n",
    "    col_list_2 = [\"FAU\",\"AU\",\"AID\",\"AUID\"]\n",
    "\n",
    "    for i in col_list_2:\n",
    "        liste = []\n",
    "        bytelist = df[i].tolist()\n",
    "\n",
    "        for j in bytelist:\n",
    "            if type(j) != float:\n",
    "                stringlist = [x.decode('utf-8') for x in j]\n",
    "                liste.append(stringlist)\n",
    "            else:\n",
    "                liste.append([])\n",
    "        df[i] = liste\n",
    "    return df"
   ]
  },
  {
   "cell_type": "code",
   "execution_count": 6,
   "metadata": {},
   "outputs": [],
   "source": [
    "def retrieve_pmc_list():\n",
    "    liste_zipped_files = glob.glob(\"../articles/xml_files/*.nxml\")\n",
    "    flat_list = []\n",
    "    \n",
    "    # retieve metadata for every downloaded full text\n",
    "    \n",
    "    for i in liste_zipped_files:\n",
    "        i = i.replace(\".nxml\",\"\")\n",
    "        flat_list.append(i[-10:])\n",
    "    \n",
    "    \n",
    "    handle = Entrez.efetch(db=\"pmc\", id=flat_list, rettype=\"medline\", retmode=\"json\")\n",
    "    records = Medline.parse(handle)\n",
    "    data_list = []\n",
    "    for record in records:\n",
    "        data_list.append(record)\n",
    "        \n",
    "    # create a dataframe from the retrieved metadata\n",
    "    \n",
    "    df = pd.DataFrame(data_list)\n",
    "    df.columns = df.columns.astype(str)\n",
    "\n",
    "\n",
    "    # drop unwanted columns and decode as utf-8\n",
    "    \n",
    "    df_filtered = df[[\"PMC\",\"FAU\",\"AU\",\"AID\",\"AUID\"]]\n",
    "\n",
    "    df_filtered = change_type_df_column(df_filtered)\n",
    "\n",
    "\n",
    "    return df_filtered"
   ]
  },
  {
   "cell_type": "code",
   "execution_count": 7,
   "metadata": {},
   "outputs": [],
   "source": [
    "def extract_body_content(df_metadata):\n",
    "    liste_zipped_files =  get_nxml_paths()\n",
    "    liste_text = []\n",
    "    liste_name = []\n",
    "    \n",
    "    # extract the content out of the xml-files\n",
    "    \n",
    "    for i in liste_zipped_files:\n",
    "        temp_text_list = []\n",
    "        with open(i, \"r\", encoding=\"utf-8\") as f:\n",
    "            article = f.read()\n",
    "            f.close()\n",
    "        soup = BeautifulSoup(article, \"lxml\")\n",
    "        for text in soup.find_all(\"p\"):\n",
    "            temp_text_list.append(text)\n",
    "\n",
    "        name_str = \"PMC\"+soup.find(\"article-id\", {\"pub-id-type\": \"pmc\"}).text\n",
    "        liste_name.append(name_str)\n",
    "        liste_text.append(temp_text_list)\n",
    "    \n",
    "    #merge the dataframe with the metadata with the dataframe containing the full texts\n",
    "    \n",
    "    df = pd.DataFrame()\n",
    "    df[\"PMCID\"] = liste_name\n",
    "    df[\"text\"] = liste_text\n",
    "   \n",
    "    df = df.merge(df_metadata, left_on=\"PMCID\", right_on=\"PMC\")\n",
    "    \n",
    "    # delete tags within the fulltexts\n",
    "    \n",
    "    df[\"text\"] = df[\"text\"].apply(lambda x: re.sub(r'<.*?>', '', str(x)))\n",
    "    return df"
   ]
  },
  {
   "cell_type": "code",
   "execution_count": 8,
   "metadata": {},
   "outputs": [
    {
     "name": "stderr",
     "output_type": "stream",
     "text": [
      "/tmp/ipykernel_2553/3387890410.py:7: SettingWithCopyWarning: \n",
      "A value is trying to be set on a copy of a slice from a DataFrame.\n",
      "Try using .loc[row_indexer,col_indexer] = value instead\n",
      "\n",
      "See the caveats in the documentation: https://pandas.pydata.org/pandas-docs/stable/user_guide/indexing.html#returning-a-view-versus-a-copy\n",
      "  df[i] = stringlist\n",
      "/tmp/ipykernel_2553/3387890410.py:21: SettingWithCopyWarning: \n",
      "A value is trying to be set on a copy of a slice from a DataFrame.\n",
      "Try using .loc[row_indexer,col_indexer] = value instead\n",
      "\n",
      "See the caveats in the documentation: https://pandas.pydata.org/pandas-docs/stable/user_guide/indexing.html#returning-a-view-versus-a-copy\n",
      "  df[i] = liste\n"
     ]
    }
   ],
   "source": [
    "Entrez.api_key = \"\"\n",
    "Entrez.email = \"\"\n",
    "df_metadata = retrieve_pmc_list()"
   ]
  },
  {
   "cell_type": "code",
   "execution_count": 9,
   "metadata": {
    "scrolled": true
   },
   "outputs": [],
   "source": [
    "df = extract_body_content(df_metadata)"
   ]
  },
  {
   "cell_type": "code",
   "execution_count": 10,
   "metadata": {},
   "outputs": [],
   "source": [
    "df = df.drop(\"PMC\", axis=1)"
   ]
  },
  {
   "cell_type": "code",
   "execution_count": 11,
   "metadata": {},
   "outputs": [],
   "source": [
    "df.to_csv(\"/path/to/store/dataframe\")"
   ]
  }
 ],
 "metadata": {
  "kernelspec": {
   "display_name": "Python 3 (ipykernel)",
   "language": "python",
   "name": "python3"
  },
  "language_info": {
   "codemirror_mode": {
    "name": "ipython",
    "version": 3
   },
   "file_extension": ".py",
   "mimetype": "text/x-python",
   "name": "python",
   "nbconvert_exporter": "python",
   "pygments_lexer": "ipython3",
   "version": "3.8.10"
  }
 },
 "nbformat": 4,
 "nbformat_minor": 4
}
